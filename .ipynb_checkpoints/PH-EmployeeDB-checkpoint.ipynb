{
 "cells": [
  {
   "cell_type": "code",
   "execution_count": 1,
   "id": "138ea317",
   "metadata": {},
   "outputs": [
    {
     "ename": "SyntaxError",
     "evalue": "invalid syntax (834123960.py, line 1)",
     "output_type": "error",
     "traceback": [
      "\u001b[1;36m  File \u001b[1;32m\"C:\\Users\\anne\\AppData\\Local\\Temp\\ipykernel_4456\\834123960.py\"\u001b[1;36m, line \u001b[1;32m1\u001b[0m\n\u001b[1;33m    -- Creating tables for PH-EmployeeDB\u001b[0m\n\u001b[1;37m                     ^\u001b[0m\n\u001b[1;31mSyntaxError\u001b[0m\u001b[1;31m:\u001b[0m invalid syntax\n"
     ]
    }
   ],
   "source": [
    "-- Creating tables for PH-EmployeeDB\n",
    "CREATE TABLE departments (\n",
    "     dept_no VARCHAR(4) NOT NULL,\n",
    "     dept_name VARCHAR(40) NOT NULL,\n",
    "     PRIMARY KEY (dept_no),\n",
    "     UNIQUE (dept_name)\n",
    ");"
   ]
  },
  {
   "cell_type": "code",
   "execution_count": null,
   "id": "12efa1d5",
   "metadata": {},
   "outputs": [],
   "source": [
    "CREATE TABLE employees (  emp_no INT NOT NULL,\n",
    "     birth_date DATE NOT NULL,\n",
    "     first_name VARCHAR NOT NULL,\n",
    "     last_name VARCHAR NOT NULL,\n",
    "     gender VARCHAR NOT NULL,\n",
    "     hire_date DATE NOT NULL,\n",
    "     PRIMARY KEY (emp_no)\n",
    ");\n"
   ]
  },
  {
   "cell_type": "code",
   "execution_count": null,
   "id": "49a3391d",
   "metadata": {},
   "outputs": [],
   "source": [
    "CREATE TABLE dept_manager (\n",
    "dept_no VARCHAR(4) NOT NULL,\n",
    "    emp_no INT NOT NULL,\n",
    "    from_date DATE NOT NULL,\n",
    "    to_date DATE NOT NULL,\n",
    "FOREIGN KEY (emp_no) REFERENCES employees (emp_no),\n",
    "FOREIGN KEY (dept_no) REFERENCES departments (dept_no),\n",
    "    PRIMARY KEY (emp_no, dept_no)\n",
    ");"
   ]
  },
  {
   "cell_type": "code",
   "execution_count": null,
   "id": "2cd3342d",
   "metadata": {},
   "outputs": [],
   "source": [
    "CREATE TABLE salaries (\n",
    "  emp_no INT NOT NULL,\n",
    "  salary INT NOT NULL,\n",
    "  from_date DATE NOT NULL,\n",
    "  to_date DATE NOT NULL,\n",
    "  FOREIGN KEY (emp_no) REFERENCES employees (emp_no),\n",
    "  PRIMARY KEY (emp_no)\n",
    ");"
   ]
  },
  {
   "cell_type": "code",
   "execution_count": null,
   "id": "5c06ee59",
   "metadata": {},
   "outputs": [],
   "source": []
  },
  {
   "cell_type": "code",
   "execution_count": null,
   "id": "ab0e7c09",
   "metadata": {},
   "outputs": [],
   "source": []
  },
  {
   "cell_type": "code",
   "execution_count": null,
   "id": "1d6cc508",
   "metadata": {},
   "outputs": [],
   "source": []
  }
 ],
 "metadata": {
  "kernelspec": {
   "display_name": "PythonData",
   "language": "python",
   "name": "pythondata"
  },
  "language_info": {
   "codemirror_mode": {
    "name": "ipython",
    "version": 3
   },
   "file_extension": ".py",
   "mimetype": "text/x-python",
   "name": "python",
   "nbconvert_exporter": "python",
   "pygments_lexer": "ipython3",
   "version": "3.7.13"
  }
 },
 "nbformat": 4,
 "nbformat_minor": 5
}
